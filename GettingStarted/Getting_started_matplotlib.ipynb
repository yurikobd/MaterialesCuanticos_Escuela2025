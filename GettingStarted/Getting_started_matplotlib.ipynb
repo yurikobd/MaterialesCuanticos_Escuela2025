{
 "cells": [
  {
   "cell_type": "markdown",
   "metadata": {},
   "source": [
    "# Getting Started with Matplotlib\n",
    "\n",
    "© Prof. Branislav K. Nikolić, University of Delaware\n",
    "\n",
    "[PHYS824: Nanophysics & Nanotechnology](https://wiki.physics.udel.edu/phys824) "
   ]
  },
  {
   "cell_type": "markdown",
   "metadata": {},
   "source": [
    "# Matplotlib\n",
    "\n",
    "[Matplotlib](http://matplotlib.org) is a Python package for 2D plotting and the `matplotlib.pyplot` sub-module contains many plotting functions to create various kinds of plots. Let us get started by importing `matplotlib.pyplot` and using `%matplotlib` [Jupyter magic](https://ipython.readthedocs.io/en/stable/interactive/magics.html#magic-matplotlib) to display plots in the notebook. We also need to import NumPy package to store sequence of $x$ and $y$ (and possibly $z$) values into arrays. "
   ]
  },
  {
   "cell_type": "code",
   "execution_count": null,
   "metadata": {},
   "outputs": [],
   "source": [
    "import numpy as np\n",
    "import matplotlib.pyplot as plt\n",
    "%matplotlib inline"
   ]
  },
  {
   "cell_type": "markdown",
   "metadata": {},
   "source": [
    "## 1. Basic Plotting\n",
    "\n",
    "### 1.1 Procedure\n",
    "\n",
    "The general procedure to create a 2D line plot is:\n",
    "\n",
    "1. Create a sequence of $x$ values.\n",
    "2. Create a sequence of $y$ values.\n",
    "3. Enter `plt.plot(x,y,[fmt],**kwargs)` where `[fmt]` is a (optional) format string and `**kwargs` are (optional) keyword arguments specifying line properties of the plot.\n",
    "4. Use `pyplot` functions to add features to the figure such as a title, legend, grid lines, etc.\n",
    "5. Enter `plt.show()` to display the resulting figure.\n",
    "\n",
    "Let us begin with a basic example with a few random points:"
   ]
  },
  {
   "cell_type": "code",
   "execution_count": null,
   "metadata": {},
   "outputs": [],
   "source": [
    "x = [-5,-2,0,1,3]\n",
    "y = [2,-1,1,-4,3]\n",
    "plt.plot(x,y)\n",
    "plt.show()"
   ]
  },
  {
   "cell_type": "markdown",
   "metadata": {},
   "source": [
    "The main things to notice are:\n",
    "\n",
    "1. The sequences `x` and `y` define the coordinates of the points in the plot.\n",
    "2. The line in the plot is constructed by connecting the points by straight lines.\n",
    "\n",
    "The second observation implies that if we want to plot a smooth curve then we need to plot lots of points otherwise the plot will not be smooth. For example, we could try plotting the parabola $y = x^2$ for $x \\in [-2,2]$ using only 5 points:"
   ]
  },
  {
   "cell_type": "code",
   "execution_count": null,
   "metadata": {},
   "outputs": [],
   "source": [
    "x = [-2,-1,0,1,2]\n",
    "y = [4,1,0,1,4]\n",
    "plt.plot(x,y)\n",
    "plt.show()"
   ]
  },
  {
   "cell_type": "markdown",
   "metadata": {},
   "source": [
    "This is too few points to plot a smooth curve such as $y = x^2$ and so we need more points! Let's try again using the NumPy function `np.linspace` to create 100 points!"
   ]
  },
  {
   "cell_type": "code",
   "execution_count": null,
   "metadata": {},
   "outputs": [],
   "source": [
    "x = np.linspace(-2,2,100)\n",
    "y = x**2\n",
    "plt.plot(x,y)\n",
    "plt.show()"
   ]
  },
  {
   "cell_type": "markdown",
   "metadata": {},
   "source": [
    "That's a better representation of the parabola $y = x^2$. Note that the number of points we use in a line plot (100 in this case) is completely arbitrary but the goal is to show a smooth graph for a smooth curve and so we just need to pick a big enough number depending on the function. But be careful not to generate too many points since a *very* large number of points will take a *long* time to plot!\n",
    "\n",
    "Now that we have the general idea, let us look at adding style and features to our plots!"
   ]
  },
  {
   "cell_type": "markdown",
   "metadata": {},
   "source": [
    "### 1.2 Line Properties\n",
    "\n",
    "A line appearing in a plot has several properties including color, transparency, style, width and markers. We can set these properties when we call `plt.plot` using the following keyword arguments:\n",
    "\n",
    "| Property | Description |\n",
    "| :---: | :--- |\n",
    "| `alpha` | transparency (0.0 transparent through 1.0 opaque) |\n",
    "| `color` (or `c`) | any matplotlib color |\n",
    "| `label` | text appearing in legend |\n",
    "| `linestyle` (or `ls`) | `solid`, `dashed`, `dashdot`, `dotted` |\n",
    "| `linewidth` (or `lw`) | set width of the line |\n",
    "| `marker` | set marker style |\n",
    "| `markeredgecolor` (or `mec`) | any matplotlib color |\n",
    "| `markerfacecolor` (or `mfc`) | any matplotlib color |\n",
    "| `markersize` (or `ms`) | size of the marker |\n",
    "\n",
    "Note that we can specify a [matplotlib color](https://matplotlib.org/api/colors_api.html) in several different ways including by name such as `blue` or `red`, or by a [RGB](https://www.w3schools.com/colors/colors_rgb.asp) tuple such as `(1,0,1)` for purple. For example, let us plot the function\n",
    "\n",
    "$$\n",
    "y = e^{-x^2}\\cos(2 \\pi x) \\ \\ , \\ \\ x \\in [-2,2]\n",
    "$$"
   ]
  },
  {
   "cell_type": "code",
   "execution_count": null,
   "metadata": {},
   "outputs": [],
   "source": [
    "x = np.linspace(-2,2,41)\n",
    "y = np.exp(-x**2) * np.cos(2*np.pi*x)\n",
    "plt.plot(x,y,alpha=0.4,label='Decaying Cosine',\n",
    "         color='red',linestyle='dashed',linewidth=2,\n",
    "         marker='o',markersize=5,markerfacecolor='blue',\n",
    "         markeredgecolor='blue')\n",
    "plt.ylim([-2,2])\n",
    "plt.legend()\n",
    "plt.show()"
   ]
  },
  {
   "cell_type": "markdown",
   "metadata": {},
   "source": [
    "Notice that we used the pyplot function `plt.legend` to display the figure with a legend (showing the line label) and  and `plt.ylim` to set the limits on the vertical axis to `[-2,2]`."
   ]
  },
  {
   "cell_type": "markdown",
   "metadata": {},
   "source": [
    "### 1.3 Format Strings\n",
    "\n",
    "A [format string](https://matplotlib.org/api/_as_gen/matplotlib.pyplot.plot.html#matplotlib-pyplot-plot) gives us a shortcut to add color, markers and line style to a line plot. For example, if we want to plot the function\n",
    "\n",
    "$$\n",
    "y = \\frac{1}{1 + x^2} \\ , \\ x \\in [-5,5]\n",
    "$$\n",
    "\n",
    "with a dashed black line and square markers, we could use keyword arguments:"
   ]
  },
  {
   "cell_type": "code",
   "execution_count": null,
   "metadata": {},
   "outputs": [],
   "source": [
    "x = np.linspace(-5,5,41)\n",
    "y = 1/(1 + x**2)\n",
    "plt.plot(x,y,color='black',linestyle='dashed',marker='s')\n",
    "plt.show()"
   ]
  },
  {
   "cell_type": "markdown",
   "metadata": {},
   "source": [
    "Or we could use the corresponding format string `'ks--'` where `k` denotes a black line, `s` a square marker and `--` a dashed line:"
   ]
  },
  {
   "cell_type": "code",
   "execution_count": null,
   "metadata": {},
   "outputs": [],
   "source": [
    "x = np.linspace(-5,5,41)\n",
    "y = 1/(1 + x**2)\n",
    "plt.plot(x,y,'ks--')\n",
    "plt.show()"
   ]
  },
  {
   "cell_type": "markdown",
   "metadata": {},
   "source": [
    "Much easier! See below for a list of colors, markers and linestyles."
   ]
  },
  {
   "cell_type": "markdown",
   "metadata": {},
   "source": [
    "#### Colors\n",
    "\n",
    "| Character | Color |\n",
    "| :---: | :---: |\n",
    "| `b` | blue |\n",
    "| `g` | green |\n",
    "| `r` | red |\n",
    "| `c` | cyan |\n",
    "| `m` | magenta |\n",
    "| `y` | yellow |\n",
    "| `k` | black |\n",
    "| `w` | white |\n",
    "\n",
    "#### Markers\n",
    "\n",
    "| Character | Marker |\n",
    "| :---: | :---: |\n",
    "| `.` | point |\n",
    "| `o` | circle |\n",
    "| `v` | triangle down |\n",
    "| `^` | triangle up |\n",
    "| `s` | square |\n",
    "| `p` | pentagon |\n",
    "| `*` |\tstar |\n",
    "| `+` | plus |\n",
    "| `x` |\tx |\n",
    "| `D` | diamond |\n",
    "\n",
    "#### Line Styles\n",
    "\n",
    "| Character | Line Style |\n",
    "| :---: | :---: |\n",
    "| `-` | solid line style |\n",
    "| `--` | dashed line style |\n",
    "| `-.` | dash-dot line style |\n",
    "| `:` | dotted line style |\n",
    "\n",
    "See the [matplotlib.pyplot.plot documentation](https://matplotlib.org/api/_as_gen/matplotlib.pyplot.plot.html) for more options."
   ]
  },
  {
   "cell_type": "markdown",
   "metadata": {},
   "source": [
    "### 1.4 Pyplot Functions\n",
    "\n",
    "There are many `pyplot` functions available for us to customize our figures. For example:\n",
    "\n",
    "| Fucntion | Description |\n",
    "| ---: | :--- |\n",
    "| `plt.xlim` | set $x$ limits |\n",
    "| `plt.ylim` | set $y$ limits |\n",
    "| `plt.grid` | add grid lines |\n",
    "| `plt.title` | add a title |\n",
    "| `plt.xlabel` | add label to the horizontal axis |\n",
    "| `plt.ylabel` | add label to the vertical axis |\n",
    "| `plt.axis` | set axis properties (`equal`, `off`, `scaled`, etc.) |\n",
    "| `plt.xticks` | set tick locations on the horizontal axis |\n",
    "| `plt.yticks` | set tick locations on the vertical axis |\n",
    "| `plt.legend` | display legend for several lines in the same figure |\n",
    "| `plt.savefig` | save figure (as .png, .pdf, etc.) to working directory |\n",
    "| `plt.figure` | create a new figure and set its properties |\n",
    "\n",
    "See the [pyplot documentation](https://matplotlib.org/api/pyplot_summary.html) for a full list of functions."
   ]
  },
  {
   "cell_type": "markdown",
   "metadata": {},
   "source": [
    "## 2. Examples from Mathematics"
   ]
  },
  {
   "cell_type": "markdown",
   "metadata": {},
   "source": [
    "### 2.1 Taylor Polynomials\n",
    "\n",
    "Plot the function $y = \\cos(x)$ along with its [Taylor polynomials](https://en.wikipedia.org/wiki/Taylor_series) of degrees 2 and 4."
   ]
  },
  {
   "cell_type": "code",
   "execution_count": null,
   "metadata": {},
   "outputs": [],
   "source": [
    "x = np.linspace(-6,6,50)\n",
    "\n",
    "# Plot y = cos(x)\n",
    "y = np.cos(x)\n",
    "plt.plot(x,y,'b',label='cos(x)')\n",
    "\n",
    "# Plot degree 2 Taylor polynomial\n",
    "y2 = 1 - x**2/2\n",
    "plt.plot(x,y2,'r-.',label='Degree 2')\n",
    "\n",
    "# Plot degree 4 Taylor polynomial\n",
    "y4 = 1 - x**2/2 + x**4/24\n",
    "plt.plot(x,y4,'g:',label='Degree 4')\n",
    "\n",
    "# Add features to our figure\n",
    "plt.legend()\n",
    "plt.grid(True,linestyle=':')\n",
    "plt.xlim([-6,6])\n",
    "plt.ylim([-4,4])\n",
    "plt.title('Taylor Polynomials of cos(x) at x=0')\n",
    "plt.xlabel('x')\n",
    "plt.ylabel('y')\n",
    "\n",
    "plt.show()"
   ]
  },
  {
   "cell_type": "markdown",
   "metadata": {},
   "source": [
    "### 2.2 Heart Curve\n",
    "\n",
    "Plot the heart curve:\n",
    "\n",
    "\\begin{align}\n",
    "x &= 16 \\sin^3(t) \\\\\\\n",
    "y &= 13 \\cos(t) - 5 \\cos(2t) - 2 \\cos(3t) - \\cos(4t)\n",
    "\\end{align}\n",
    "\n",
    "for $t \\in [0,2\\pi]$."
   ]
  },
  {
   "cell_type": "code",
   "execution_count": null,
   "metadata": {},
   "outputs": [],
   "source": [
    "t = np.linspace(0,2*np.pi,100)\n",
    "\n",
    "x = 16*np.sin(t)**3\n",
    "y = 13*np.cos(t) - 5*np.cos(2*t) - 2*np.cos(3*t) - np.cos(4*t)\n",
    "\n",
    "# Plot line with RGB tuple (red=1, green=0.2, blue=0.5)\n",
    "# and 20pt line width\n",
    "plt.plot(x,y,c=(1,0.2,0.5),lw=20)\n",
    "\n",
    "# Add features to our figure\n",
    "plt.title('Heart!')\n",
    "plt.axis('equal')\n",
    "plt.axis('off')\n",
    "\n",
    "plt.show()"
   ]
  },
  {
   "cell_type": "markdown",
   "metadata": {},
   "source": [
    "### 2.3 Subplots\n",
    "\n",
    "The `plt.subplot` function takes at least 3 inputs $n$, $m$ and $i$ and creates a figure with a $n$ by $m$ grid of subplots and then sets the $i$th subplot (counting across the rows) as the current plot (ie. current axes object).\n",
    "\n",
    "For example, consider the [sawtooth wave](https://en.wikipedia.org/wiki/Sawtooth_wave)\n",
    "\n",
    "$$\n",
    "f(t) = \\frac{1}{2} - \\frac{1}{\\pi} \\sum_{k=1}^{\\infty} (-1)^k \\frac{\\sin(2 \\pi k t)}{k}\n",
    "$$\n",
    "\n",
    "and let $f_N(t)$ denote the $N$th partial sum of the sawtooth wave:\n",
    "\n",
    "$$\n",
    "f_N(t) = \\frac{1}{2} - \\frac{1}{\\pi} \\sum_{k=1}^{N} (-1)^k \\frac{\\sin(2 \\pi k t)}{k}\n",
    "$$\n",
    "\n",
    "Create a 2 by 2 grid of subplots to plot the first 4 partial sums:\n",
    "\n",
    "\\begin{align}\n",
    "f_1(t) &= \\frac{1}{2} + \\frac{\\sin(2 \\pi t)}{\\pi} \\\\\\\n",
    "f_2(t) &= \\frac{1}{2} + \\frac{\\sin(2 \\pi t)}{\\pi} - \\frac{\\sin(4 \\pi t)}{2\\pi} \\\\\\\n",
    "f_3(t) &= \\frac{1}{2} + \\frac{\\sin(2 \\pi t)}{\\pi} - \\frac{\\sin(4 \\pi t)}{2\\pi} + \\frac{\\sin(6 \\pi t)}{3\\pi} \\\\\\\n",
    "f_4(t) &= \\frac{1}{2} + \\frac{\\sin(2 \\pi t)}{\\pi} - \\frac{\\sin(4 \\pi t)}{2\\pi} + \\frac{\\sin(6 \\pi t)}{3\\pi} - \\frac{\\sin(8 \\pi t)}{4\\pi}\n",
    "\\end{align}"
   ]
  },
  {
   "cell_type": "code",
   "execution_count": null,
   "metadata": {},
   "outputs": [],
   "source": [
    "t = np.linspace(0,4,200)\n",
    "\n",
    "fN = 1/2\n",
    "for N in [1,2,3,4]:\n",
    "    fN = fN - (-1)**N * np.sin(2*N*np.pi*t)/(N*np.pi)\n",
    "    plt.subplot(2,2,N)\n",
    "    plt.plot(t,fN)\n",
    "    plt.title('N = {}'.format(N))\n",
    "\n",
    "plt.tight_layout()\n",
    "plt.show()"
   ]
  },
  {
   "cell_type": "markdown",
   "metadata": {},
   "source": [
    "See the [documentation](https://matplotlib.org/api/_as_gen/matplotlib.pyplot.subplot.html) for more about subplots."
   ]
  },
  {
   "cell_type": "markdown",
   "metadata": {},
   "source": [
    "## 3. Beyond Line Plots\n",
    "\n",
    "### 3.1 Scatter plots\n",
    "\n",
    "A [scatter plot](https://matplotlib.org/api/_as_gen/matplotlib.pyplot.scatter.html) has 4 dimensions: $x$ coordinate, $y$ coordinate, size and color. Let's make a random scatter plot:"
   ]
  },
  {
   "cell_type": "code",
   "execution_count": null,
   "metadata": {},
   "outputs": [],
   "source": [
    "# Set the number of dots in the plot\n",
    "N = 2000\n",
    "\n",
    "# Create random x and y coordinates sampled uniformly from [0,1]\n",
    "x = np.random.rand(N)\n",
    "y = np.random.rand(N)\n",
    "\n",
    "# Create random array sampled uniformly from [20,120]\n",
    "# `size` array is used below to set the size of each dot\n",
    "size = 100*np.random.rand(N) + 20\n",
    "\n",
    "# Create random 4-tuples sampled uniformly from [0,1]\n",
    "# `colors` array is used below to set the color\n",
    "# (red,green,blue,alpha) of each dot\n",
    "colors = np.random.rand(N,4)\n",
    "\n",
    "# Create a figure of size 12 by 5 and create scatter plot\n",
    "plt.figure(figsize=(12,5))\n",
    "plt.scatter(x,y,c=colors,s=size)\n",
    "plt.axis('off')\n",
    "plt.show()"
   ]
  },
  {
   "cell_type": "markdown",
   "metadata": {},
   "source": [
    "### 3.2 Histograms\n",
    "\n",
    "Generate an array of 10000 random numbers sampled from the normal distribution and create a [histogram](https://matplotlib.org/api/_as_gen/matplotlib.pyplot.hist.html). Let's also superimpose the normal distribution:\n",
    "\n",
    "$$\n",
    "y = \\frac{1}{\\sqrt{2\\pi}} e^{-x^2/2}\n",
    "$$"
   ]
  },
  {
   "cell_type": "code",
   "execution_count": null,
   "metadata": {},
   "outputs": [],
   "source": [
    "samples = np.random.randn(10000)\n",
    "plt.hist(samples,bins=20,density=True,alpha=0.5,color=(0.3,0.8,0.1))\n",
    "plt.title('Random Samples - Normal Distribution')\n",
    "plt.ylabel('Frequency')\n",
    "\n",
    "x = np.linspace(-4,4,100)\n",
    "y = 1/(2*np.pi)**0.5 * np.exp(-x**2/2)\n",
    "plt.plot(x,y,'b',alpha=0.8)\n",
    "\n",
    "plt.show()"
   ]
  },
  {
   "cell_type": "markdown",
   "metadata": {},
   "source": [
    "### 3.3 Bar plots\n",
    "\n",
    "Plot the [total precipitation in Vancouver](https://vancouver.weatherstats.ca/charts/precipitation-monthly.html) by month as a [bar plot](https://matplotlib.org/api/_as_gen/matplotlib.pyplot.bar.html):"
   ]
  },
  {
   "cell_type": "code",
   "execution_count": null,
   "metadata": {},
   "outputs": [],
   "source": [
    "month = range(1,13)\n",
    "precipitation = [98.8,128.8,206.0,138.5,102.2,46.4,1.8,5.0,29.4,114.8,197.0,170.6]\n",
    "\n",
    "plt.bar(month,precipitation)\n",
    "\n",
    "plt.xticks(month)\n",
    "plt.yticks(range(0,300,50))\n",
    "plt.grid(True,alpha=0.5,linestyle='--')\n",
    "plt.title('Precipitation in Newark, 2020')\n",
    "plt.ylabel('Total Precipitation (mm)')\n",
    "plt.xlabel('Month')\n",
    "\n",
    "plt.show()"
   ]
  },
  {
   "cell_type": "markdown",
   "metadata": {},
   "source": [
    "### 3.4 Contour plots"
   ]
  },
  {
   "cell_type": "code",
   "execution_count": null,
   "metadata": {},
   "outputs": [],
   "source": [
    "def f(x,y):\n",
    "    return (1 - x / 2 + x**5 + y**3) * np.exp(-x**2 -y**2)\n",
    "\n",
    "n = 256\n",
    "x = np.linspace(-3, 3, n)\n",
    "y = np.linspace(-3, 3, n)\n",
    "X,Y = np.meshgrid(x, y)\n",
    "\n",
    "plt.axes([0.025, 0.025, 0.95, 0.95])\n",
    "\n",
    "plt.contourf(X, Y, f(X, Y), 8, alpha=.75, cmap=plt.cm.hot)\n",
    "C = plt.contour(X, Y, f(X, Y), 8, colors='black')\n",
    "plt.clabel(C, inline=1, fontsize=10)\n",
    "\n",
    "plt.xticks([])\n",
    "plt.yticks([])\n",
    "plt.show()"
   ]
  },
  {
   "cell_type": "markdown",
   "metadata": {},
   "source": [
    "### 3.5 Vector field ([quiver in Matlab](https://www.mathworks.com/help/matlab/ref/quiver.html)) plots"
   ]
  },
  {
   "cell_type": "code",
   "execution_count": null,
   "metadata": {},
   "outputs": [],
   "source": [
    "n = 8\n",
    "X, Y = np.mgrid[0:n, 0:n]\n",
    "T = np.arctan2(Y - n / 2., X - n/2.)\n",
    "R = 10 + np.sqrt((Y - n / 2.0) ** 2 + (X - n / 2.0) ** 2)\n",
    "U, V = R * np.cos(T), R * np.sin(T)\n",
    "\n",
    "plt.axes([0.025, 0.025, 0.95, 0.95])\n",
    "plt.quiver(X, Y, U, V, R, alpha=.5)\n",
    "plt.quiver(X, Y, U, V, edgecolor='k', facecolor='None', linewidth=.5)\n",
    "\n",
    "plt.xlim(-1, n)\n",
    "plt.xticks([])\n",
    "plt.ylim(-1, n)\n",
    "plt.yticks([])\n",
    "\n",
    "plt.show()"
   ]
  },
  {
   "cell_type": "markdown",
   "metadata": {},
   "source": [
    "### 3.6 Polar axis plots"
   ]
  },
  {
   "cell_type": "code",
   "execution_count": null,
   "metadata": {},
   "outputs": [],
   "source": [
    "ax = plt.axes([0.025, 0.025, 0.95, 0.95], polar=True)\n",
    "\n",
    "N = 20\n",
    "theta = np.arange(0.0, 2 * np.pi, 2 * np.pi / N)\n",
    "radii = 10 * np.random.rand(N)\n",
    "width = np.pi / 4 * np.random.rand(N)\n",
    "bars = plt.bar(theta, radii, width=width, bottom=0.0)\n",
    "\n",
    "for r,bar in zip(radii, bars):\n",
    "    bar.set_facecolor(plt.cm.jet(r/10.))\n",
    "    bar.set_alpha(0.5)\n",
    "\n",
    "ax.set_xticklabels([])\n",
    "ax.set_yticklabels([])\n",
    "plt.show()"
   ]
  },
  {
   "cell_type": "markdown",
   "metadata": {},
   "source": [
    "### 3.7 3D plotting"
   ]
  },
  {
   "cell_type": "code",
   "execution_count": null,
   "metadata": {},
   "outputs": [],
   "source": [
    "from mpl_toolkits.mplot3d import Axes3D\n",
    "\n",
    "fig = plt.figure()\n",
    "ax = Axes3D(fig)\n",
    "X = np.arange(-4, 4, 0.25)\n",
    "Y = np.arange(-4, 4, 0.25)\n",
    "X, Y = np.meshgrid(X, Y)\n",
    "R = np.sqrt(X ** 2 + Y ** 2)\n",
    "Z = np.sin(R)\n",
    "\n",
    "ax.plot_surface(X, Y, Z, rstride=1, cstride=1, cmap=plt.cm.hot)\n",
    "ax.contourf(X, Y, Z, zdir='z', offset=-2, cmap=plt.cm.hot)\n",
    "ax.set_zlim(-2, 2)\n",
    "\n",
    "plt.show()"
   ]
  },
  {
   "cell_type": "markdown",
   "metadata": {},
   "source": [
    "## 4. Examples from Quantum Statistical Mechanics\n",
    "\n",
    "### 5.1 Fermi-Dirac distribution"
   ]
  },
  {
   "cell_type": "code",
   "execution_count": null,
   "metadata": {},
   "outputs": [],
   "source": [
    "E = np.linspace(0,10,100) # grid of 100 energy points\n",
    "\n",
    "EF = 5.53 # Fermi energy of gold in eV\n",
    "\n",
    "# Plot at room temperature\n",
    "kBT = 0.025 # room temperature in eV\n",
    "f = 1/(np.exp((E-EF)/kBT)+1)\n",
    "plt.plot(E,f,'b',label='T=300 K')\n",
    "\n",
    "# Plot at high temperature\n",
    "kBT=0.1 # 1160 K in eV\n",
    "f1 = 1/(np.exp((E-EF)/kBT)+1)\n",
    "plt.plot(E,f1,'g:',label='T=1160 K')\n",
    "\n",
    "# Add features to our figure\n",
    "plt.legend()\n",
    "plt.grid(True,linestyle=':')\n",
    "plt.xlim([0,10])\n",
    "plt.ylim([0,1.2])\n",
    "plt.title('Fermi-Dirac distribution of gold')\n",
    "plt.xlabel('Energy (eV)')\n",
    "plt.ylabel('f(E)')\n",
    "\n",
    "plt.show()"
   ]
  },
  {
   "cell_type": "markdown",
   "metadata": {},
   "source": [
    "### 5.2 Negative derivative of Fermi-Dirac distribution"
   ]
  },
  {
   "cell_type": "code",
   "execution_count": null,
   "metadata": {},
   "outputs": [],
   "source": [
    "E = np.linspace(0,10,50)\n",
    "\n",
    "EF = 5.53 # Fermi energy of gold in eV\n",
    "\n",
    "# Plot at room temperature\n",
    "kBT = 0.025 # room temperature in eV\n",
    "f = 1/(2*kBT*(1 + np.cosh((E - EF)/kBT)))\n",
    "plt.plot(E,f,'b',label='T=300 K')\n",
    "\n",
    "# Plot at high temperature\n",
    "kBT = 0.1 # 1160 K in eV\n",
    "f1 = 1/(2*kBT*(1 + np.cosh((E - EF)/kBT)))\n",
    "plt.plot(E,f1,'g:',label='T=1160 K')\n",
    "\n",
    "# Add features to our figure\n",
    "plt.legend()\n",
    "plt.grid(True,linestyle=':')\n",
    "plt.xlim([0,10])\n",
    "plt.ylim([0,9])\n",
    "plt.title('Negative derivative of Fermi-Dirac distribution of gold')\n",
    "plt.xlabel('Energy (eV)')\n",
    "plt.ylabel('-df/dE')\n",
    "\n",
    "plt.show()"
   ]
  },
  {
   "cell_type": "markdown",
   "metadata": {},
   "source": [
    "Send corrections to <code>bnikolic@udel.edu</code>"
   ]
  }
 ],
 "metadata": {
  "kernelspec": {
   "display_name": "Python 3",
   "language": "python",
   "name": "python3"
  },
  "language_info": {
   "codemirror_mode": {
    "name": "ipython",
    "version": 3
   },
   "file_extension": ".py",
   "mimetype": "text/x-python",
   "name": "python",
   "nbconvert_exporter": "python",
   "pygments_lexer": "ipython3",
   "version": "3.8.3"
  }
 },
 "nbformat": 4,
 "nbformat_minor": 2
}
