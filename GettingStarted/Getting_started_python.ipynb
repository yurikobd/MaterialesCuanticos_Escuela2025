{
 "cells": [
  {
   "cell_type": "markdown",
   "metadata": {},
   "source": [
    "# Getting Started with Python \n",
    "\n",
    "© Dr. Marko Petrović and Prof. Branislav K. Nikolić, University of Delaware\n",
    "\n",
    "[PHYS824: Nanophysics & Nanotechnology](https://wiki.physics.udel.edu/phys824) "
   ]
  },
  {
   "cell_type": "markdown",
   "metadata": {
    "slideshow": {
     "slide_type": "slide"
    }
   },
   "source": [
    "## What is Python?\n",
    "\n",
    "\n",
    "Python is an interpreted high-level programming language for general-purpose programming.\n",
    "\n",
    "#### Python features:\n",
    " - dynamic types \n",
    " - object-oriented, functional and procedural \n",
    " - large library (a lot of external packages)\n",
    " \n"
   ]
  },
  {
   "cell_type": "markdown",
   "metadata": {
    "slideshow": {
     "slide_type": "slide"
    }
   },
   "source": [
    "#### Different versions of Python\n",
    "\n",
    "- Python 2.x or 3.x \n",
    "\n",
    "#### Writing and running Python\n",
    "\n",
    "- Terminal (text scripts or interactively)\n",
    "- Notebooks ([Jupyter](http://jupyter.org/index.html)). To run this notebook you also need to install Python's [matplotlib](https://matplotlib.org/) and [numpy](http://www.numpy.org/) packages \n",
    "- IDE (e.g. [Spyder](https://www.spyder-ide.org/), [PyCharm](https://www.spyder-ide.org/))"
   ]
  },
  {
   "cell_type": "markdown",
   "metadata": {
    "slideshow": {
     "slide_type": "slide"
    }
   },
   "source": [
    "## What is covered in this notebook\n",
    "- Basic data types in Python\n",
    "- Data containers (lists, tuples, dictionaries)\n",
    "- Control flow (if statements, loops, functions)\n",
    "- Built-in functions\n",
    "- Pitfalls and error messages"
   ]
  },
  {
   "cell_type": "markdown",
   "metadata": {},
   "source": [
    "## 0. Check kernel with legendary program"
   ]
  },
  {
   "cell_type": "code",
   "execution_count": 20,
   "metadata": {},
   "outputs": [
    {
     "name": "stdout",
     "output_type": "stream",
     "text": [
      "Hello World\n"
     ]
    }
   ],
   "source": [
    "print(\"Hello World\")"
   ]
  },
  {
   "cell_type": "markdown",
   "metadata": {
    "slideshow": {
     "slide_type": "slide"
    }
   },
   "source": [
    "## 1. Basic data types in Python"
   ]
  },
  {
   "cell_type": "markdown",
   "metadata": {
    "slideshow": {
     "slide_type": "slide"
    }
   },
   "source": [
    "Most commonly used data types in Python are: integer, float, string, and  boolean. "
   ]
  },
  {
   "cell_type": "code",
   "execution_count": 21,
   "metadata": {
    "slideshow": {
     "slide_type": "-"
    }
   },
   "outputs": [],
   "source": [
    "hbar = 6.582119514e-34           # reduced Plank constant (eV*s)\n",
    "n_spins = 5                      # integer\n",
    "phi = 0.1234                     # float \n",
    "z = 1 + 2j                       # complex\n",
    "xlabel = 'System Size (nm)'      # string \n",
    "test_failed = True               # Boolean (True or False)\n",
    "is_phi_positive = phi > 0        # Boolean\n",
    "xyz = None                       # None is not equal to zero"
   ]
  },
  {
   "cell_type": "code",
   "execution_count": 22,
   "metadata": {
    "slideshow": {
     "slide_type": "fragment"
    }
   },
   "outputs": [
    {
     "name": "stdout",
     "output_type": "stream",
     "text": [
      "(1+2j)\n",
      "RE:  1.00   IM: 2.00e+00  \n"
     ]
    }
   ],
   "source": [
    "print(z)\n",
    "print(\"RE: %5.2f   IM: %5.2e  \" % (z.real, z.imag))"
   ]
  },
  {
   "cell_type": "markdown",
   "metadata": {
    "slideshow": {
     "slide_type": "slide"
    }
   },
   "source": [
    "#### Python is dynamically typed language\n",
    "- Variable type does not depend on its name but on its current value. \n",
    "- Variable type can change with every new value assignment. \n",
    "- There are no constants in Python "
   ]
  },
  {
   "cell_type": "markdown",
   "metadata": {
    "slideshow": {
     "slide_type": "slide"
    }
   },
   "source": [
    "#### Example of a variable changing type\n",
    "\n",
    "You can check the type of a variable with the built-in <code>type()</code> function."
   ]
  },
  {
   "cell_type": "code",
   "execution_count": 23,
   "metadata": {
    "slideshow": {
     "slide_type": "-"
    }
   },
   "outputs": [
    {
     "name": "stdout",
     "output_type": "stream",
     "text": [
      "5 <class 'int'>\n",
      "Hello! <class 'str'>\n"
     ]
    }
   ],
   "source": [
    "x = 5                    \n",
    "print(x, type(x))\n",
    "\n",
    "x = \"Hello!\" \n",
    "print(x, type(x))"
   ]
  },
  {
   "cell_type": "markdown",
   "metadata": {
    "slideshow": {
     "slide_type": "slide"
    }
   },
   "source": [
    "#### Convention for constants\n",
    "\n",
    "Use all capital letters as a reminder to keep a value constant. "
   ]
  },
  {
   "cell_type": "code",
   "execution_count": null,
   "metadata": {
    "slideshow": {
     "slide_type": "-"
    }
   },
   "outputs": [],
   "source": [
    "hbar = 6.582119514e-34          # we want this to be constant \n",
    "hbar = 2                        # problem: We just changed it!\n",
    "print('hbar =  ', hbar)\n",
    "NEW_HBAR = 6.582119514e-34      # constant (still can be changed!)"
   ]
  },
  {
   "cell_type": "markdown",
   "metadata": {
    "slideshow": {
     "slide_type": "slide"
    }
   },
   "source": [
    "#### Operators"
   ]
  },
  {
   "cell_type": "code",
   "execution_count": 25,
   "metadata": {
    "scrolled": true,
    "slideshow": {
     "slide_type": "-"
    }
   },
   "outputs": [
    {
     "name": "stdout",
     "output_type": "stream",
     "text": [
      "Addition:  17\n",
      "Subtraction:  7\n",
      "Multiplication:  60\n",
      "Power:  248832\n",
      "Division:  2.4\n",
      "Floor division:  2\n",
      "Remainder:  2\n",
      "String concatenation ABCDEFGH\n"
     ]
    }
   ],
   "source": [
    "x = 12\n",
    "y = 5\n",
    "print('Addition: ', x + y)\n",
    "print('Subtraction: ', x - y)\n",
    "print('Multiplication: ', x * y)\n",
    "print('Power: ', x**y)\n",
    "print('Division: ', x / y)\n",
    "print('Floor division: ', x // y) #  divides the first argument by the second and rounds the result \n",
    "                                  #  down to the nearest integer number\n",
    "print('Remainder: ', x % y)\n",
    "print('String concatenation', 'ABCD' + 'EFGH')"
   ]
  },
  {
   "cell_type": "markdown",
   "metadata": {
    "slideshow": {
     "slide_type": "slide"
    }
   },
   "source": [
    "#### Logical operators"
   ]
  },
  {
   "cell_type": "code",
   "execution_count": 26,
   "metadata": {
    "slideshow": {
     "slide_type": "-"
    }
   },
   "outputs": [
    {
     "name": "stdout",
     "output_type": "stream",
     "text": [
      "Equality:  False\n",
      "Non-equality:  True\n",
      "Less than:  True\n",
      "Greater than or equal:  False\n",
      "Negation:  True\n",
      "Composition:  False\n"
     ]
    }
   ],
   "source": [
    "x = 2\n",
    "y = 7\n",
    "print('Equality: ', x == y)\n",
    "print('Non-equality: ', x != y)\n",
    "print('Less than: ', x < y)\n",
    "print('Greater than or equal: ', x >= y)\n",
    "print('Negation: ', not x >= y)\n",
    "print('Composition: ', ((x > y) and (y < 5)) or (x > 5))"
   ]
  },
  {
   "cell_type": "markdown",
   "metadata": {
    "slideshow": {
     "slide_type": "slide"
    }
   },
   "source": [
    "### 1.2 Data containers"
   ]
  },
  {
   "cell_type": "markdown",
   "metadata": {
    "slideshow": {
     "slide_type": "slide"
    }
   },
   "source": [
    "\n",
    "Data containers are used to group variables and literals. \n",
    "\n",
    "Four major container types are:\n",
    "- lists\n",
    "- tuples\n",
    "- sets \n",
    "- dictionaries"
   ]
  },
  {
   "cell_type": "markdown",
   "metadata": {
    "slideshow": {
     "slide_type": "slide"
    }
   },
   "source": [
    "#### Lists\n",
    "List are mutable (the number of their elements can change after they are created) and ordered data containers which can hold any data type."
   ]
  },
  {
   "cell_type": "code",
   "execution_count": 27,
   "metadata": {
    "slideshow": {
     "slide_type": "-"
    }
   },
   "outputs": [
    {
     "data": {
      "text/plain": [
       "list"
      ]
     },
     "execution_count": 27,
     "metadata": {},
     "output_type": "execute_result"
    }
   ],
   "source": [
    "grocery = ['bread', 'soup', 'cheese', 'beer', 'wine', 'soda']  \n",
    "random_stuff = ['ABC', 3.14, None, grocery] \n",
    "energies = [0.1, 0.2, 0.3]\n",
    "type(random_stuff)"
   ]
  },
  {
   "cell_type": "markdown",
   "metadata": {},
   "source": [
    "#### Selecting list elements (keep in mind that counting index of a list starts from 0)"
   ]
  },
  {
   "cell_type": "code",
   "execution_count": 28,
   "metadata": {},
   "outputs": [
    {
     "name": "stdout",
     "output_type": "stream",
     "text": [
      "bread\n",
      "soup soda\n",
      "['soup', 'cheese']\n",
      "None\n",
      "['bread', 'soup', 'cheese', 'beer', 'wine', 'soda']\n",
      "0.3\n"
     ]
    }
   ],
   "source": [
    "print(grocery[0])\n",
    "print(grocery[1], grocery[-1])\n",
    "print(grocery[1:3])\n",
    "print(random_stuff[2])\n",
    "print(random_stuff[3])\n",
    "print(energies[2])"
   ]
  },
  {
   "cell_type": "markdown",
   "metadata": {},
   "source": [
    "Lists like <code> energies </code> above can be employed for numerical computation, but they [consume more memory and are slower](https://python-course.eu/numerical-programming/introduction-to-numpy.php) than NumPy arrays covered in our second tutorial."
   ]
  },
  {
   "cell_type": "markdown",
   "metadata": {},
   "source": [
    "#### Find the index of the element of a list"
   ]
  },
  {
   "cell_type": "code",
   "execution_count": 29,
   "metadata": {},
   "outputs": [
    {
     "name": "stdout",
     "output_type": "stream",
     "text": [
      "The index of e: 1\n",
      "The index of i: 2\n"
     ]
    }
   ],
   "source": [
    "# vowels list\n",
    "vowels = ['a', 'e', 'i', 'o', 'i', 'u']\n",
    "\n",
    "# index of 'e' in vowels\n",
    "index = vowels.index('e')\n",
    "print(\"The index of e:\", index)\n",
    "\n",
    "# element 'i' is searched\n",
    "# index of the first 'i' is returned\n",
    "index = vowels.index('i')\n",
    "print(\"The index of i:\", index)"
   ]
  },
  {
   "cell_type": "markdown",
   "metadata": {
    "slideshow": {
     "slide_type": "slide"
    }
   },
   "source": [
    "#### Appending lists"
   ]
  },
  {
   "cell_type": "code",
   "execution_count": 30,
   "metadata": {
    "slideshow": {
     "slide_type": "-"
    }
   },
   "outputs": [
    {
     "name": "stdout",
     "output_type": "stream",
     "text": [
      "[0, 1, 1, 2]\n"
     ]
    }
   ],
   "source": [
    "fibonacci = []\n",
    "fibonacci.append(0)\n",
    "fibonacci.append(1)\n",
    "fibonacci.append(1)\n",
    "fibonacci.append(2)\n",
    "print(fibonacci)"
   ]
  },
  {
   "cell_type": "markdown",
   "metadata": {
    "slideshow": {
     "slide_type": "slide"
    }
   },
   "source": [
    "#### Extending lists"
   ]
  },
  {
   "cell_type": "code",
   "execution_count": 31,
   "metadata": {
    "slideshow": {
     "slide_type": "-"
    }
   },
   "outputs": [
    {
     "name": "stdout",
     "output_type": "stream",
     "text": [
      "['bread', 'soup', 'cheese']\n",
      "3\n",
      "['bread', 'soup', 'cheese', 'beer', 'wine', 'soda']\n",
      "6\n"
     ]
    }
   ],
   "source": [
    "grocery = ['bread', 'soup', 'cheese']\n",
    "print(grocery)\n",
    "print(len(grocery)) # print the length of the list\n",
    "drinks = ['beer', 'wine', 'soda']\n",
    "grocery.extend(drinks)\n",
    "print(grocery)\n",
    "print(len(grocery))"
   ]
  },
  {
   "cell_type": "markdown",
   "metadata": {
    "slideshow": {
     "slide_type": "slide"
    }
   },
   "source": [
    "#### Changing list elements "
   ]
  },
  {
   "cell_type": "code",
   "execution_count": 32,
   "metadata": {
    "slideshow": {
     "slide_type": "-"
    }
   },
   "outputs": [
    {
     "name": "stdout",
     "output_type": "stream",
     "text": [
      "['milk', 'soup', 'cheese']\n",
      "['milk', 'soup', 'coffee']\n",
      "['milk', 'coffee']\n"
     ]
    }
   ],
   "source": [
    "grocery = ['milk', 'soup', 'cheese']\n",
    "print(grocery)\n",
    "grocery[2] = 'coffee'     # change the third element\n",
    "print(grocery)\n",
    "del grocery[1]            # delete the second element\n",
    "print(grocery)"
   ]
  },
  {
   "cell_type": "markdown",
   "metadata": {
    "slideshow": {
     "slide_type": "slide"
    }
   },
   "source": [
    "#### Tuples\n",
    "\n",
    "- Tuples are similar to lists, but they are immutable.\n",
    "- Their elements *cannot* change after a tuple is being created.\n",
    "- They are set with commas, *with or without parentheses*. \n",
    "- Good for returning multiple values from a function."
   ]
  },
  {
   "cell_type": "code",
   "execution_count": 34,
   "metadata": {
    "slideshow": {
     "slide_type": "-"
    }
   },
   "outputs": [
    {
     "data": {
      "text/plain": [
       "'Wed'"
      ]
     },
     "execution_count": 34,
     "metadata": {},
     "output_type": "execute_result"
    }
   ],
   "source": [
    "days = ('Mon', 'Tue', 'Wed', 'Thu', 'Fri', 'Sat', 'Sun')\n",
    "days[1]"
   ]
  },
  {
   "cell_type": "markdown",
   "metadata": {
    "slideshow": {
     "slide_type": "slide"
    }
   },
   "source": [
    "#### Unpacking tuples"
   ]
  },
  {
   "cell_type": "code",
   "execution_count": 35,
   "metadata": {
    "slideshow": {
     "slide_type": "-"
    }
   },
   "outputs": [
    {
     "name": "stdout",
     "output_type": "stream",
     "text": [
      "2.5\n",
      "5.4\n",
      "0.5\n"
     ]
    }
   ],
   "source": [
    "x = (2.5, 5.4, 0.5)\n",
    "(energy, volume, bias) = x\n",
    "print(energy)\n",
    "print(volume)\n",
    "print(bias)"
   ]
  },
  {
   "cell_type": "code",
   "execution_count": 36,
   "metadata": {},
   "outputs": [
    {
     "name": "stdout",
     "output_type": "stream",
     "text": [
      "apple\n",
      "mango\n",
      "['papaya', 'pineapple', 'cherry']\n"
     ]
    }
   ],
   "source": [
    "fruits = (\"apple\", \"mango\", \"papaya\", \"pineapple\", \"cherry\")\n",
    "(green, tropic, *red) = fruits # if the number of variables is less than the number of values, \n",
    "                               # adding * to the variable name will assign a list to that variable\n",
    "print(green)\n",
    "print(tropic)\n",
    "print(red)"
   ]
  },
  {
   "cell_type": "code",
   "execution_count": 39,
   "metadata": {},
   "outputs": [
    {
     "name": "stdout",
     "output_type": "stream",
     "text": [
      "range(1, 10)\n"
     ]
    },
    {
     "ename": "AttributeError",
     "evalue": "'range' object has no attribute 'remove'",
     "output_type": "error",
     "traceback": [
      "\u001b[1;31m---------------------------------------------------------------------------\u001b[0m",
      "\u001b[1;31mAttributeError\u001b[0m                            Traceback (most recent call last)",
      "\u001b[1;32m~\\AppData\\Local\\Temp\\ipykernel_14552\\1115926132.py\u001b[0m in \u001b[0;36m<cell line: 3>\u001b[1;34m()\u001b[0m\n\u001b[0;32m      1\u001b[0m \u001b[0mx\u001b[0m\u001b[1;33m=\u001b[0m\u001b[0mrange\u001b[0m\u001b[1;33m(\u001b[0m\u001b[1;36m1\u001b[0m\u001b[1;33m,\u001b[0m\u001b[1;36m10\u001b[0m\u001b[1;33m)\u001b[0m\u001b[1;33m\u001b[0m\u001b[1;33m\u001b[0m\u001b[0m\n\u001b[0;32m      2\u001b[0m \u001b[0mprint\u001b[0m\u001b[1;33m(\u001b[0m\u001b[0mx\u001b[0m\u001b[1;33m)\u001b[0m\u001b[1;33m\u001b[0m\u001b[1;33m\u001b[0m\u001b[0m\n\u001b[1;32m----> 3\u001b[1;33m \u001b[0mx\u001b[0m\u001b[1;33m.\u001b[0m\u001b[0mremove\u001b[0m\u001b[1;33m(\u001b[0m\u001b[1;36m9\u001b[0m\u001b[1;33m)\u001b[0m\u001b[1;33m\u001b[0m\u001b[1;33m\u001b[0m\u001b[0m\n\u001b[0m\u001b[0;32m      4\u001b[0m \u001b[0mprint\u001b[0m\u001b[1;33m(\u001b[0m\u001b[0mx\u001b[0m\u001b[1;33m)\u001b[0m\u001b[1;33m\u001b[0m\u001b[1;33m\u001b[0m\u001b[0m\n\u001b[0;32m      5\u001b[0m \u001b[1;31m# this leads to an error, but if you replace first line with x=[*(range(1,10))] you find\u001b[0m\u001b[1;33m\u001b[0m\u001b[1;33m\u001b[0m\u001b[0m\n",
      "\u001b[1;31mAttributeError\u001b[0m: 'range' object has no attribute 'remove'"
     ]
    }
   ],
   "source": [
    "x=range(1,10)\n",
    "print(x)\n",
    "x.remove(9)\n",
    "print(x)\n",
    "# this leads to an error, but if you replace first line with x=[*(range(1,10))] you find \n",
    "# another example of usage of upacking operator * in order to convert range of integers into a list"
   ]
  },
  {
   "cell_type": "markdown",
   "metadata": {
    "slideshow": {
     "slide_type": "slide"
    }
   },
   "source": [
    "#### Dictionaries\n",
    "Dictionaries are mutable collections of key/value pairs.\n",
    "\n",
    "\n",
    "     "
   ]
  },
  {
   "cell_type": "code",
   "execution_count": 40,
   "metadata": {
    "slideshow": {
     "slide_type": "fragment"
    }
   },
   "outputs": [
    {
     "name": "stdout",
     "output_type": "stream",
     "text": [
      "70.0\n"
     ]
    }
   ],
   "source": [
    "temp_F = {}                       # empty dictionary\n",
    "temp_F['Boston'] = 70.\n",
    "temp_F['New York'] = 72. \n",
    "temp_F['Newark'] = 75. \n",
    "print(temp_F['Boston'])"
   ]
  },
  {
   "cell_type": "code",
   "execution_count": 41,
   "metadata": {
    "slideshow": {
     "slide_type": "fragment"
    }
   },
   "outputs": [
    {
     "data": {
      "text/plain": [
       "'123-4444-843'"
      ]
     },
     "execution_count": 41,
     "metadata": {},
     "output_type": "execute_result"
    }
   ],
   "source": [
    "phone = {'Alice': '123-4567-890',\n",
    "         'Bob': '123-4444-843',\n",
    "         'Tom': '843-4342-434'}\n",
    "\n",
    "phone['Bob']"
   ]
  },
  {
   "cell_type": "markdown",
   "metadata": {
    "slideshow": {
     "slide_type": "slide"
    }
   },
   "source": [
    "## 2. Control flow"
   ]
  },
  {
   "cell_type": "markdown",
   "metadata": {
    "slideshow": {
     "slide_type": "slide"
    }
   },
   "source": [
    "### 2.1 The <code>if</code> statement\n",
    "\n",
    "*Indentation plays a very important role in determining how code is executed*. Same code with different indentation will do different things. "
   ]
  },
  {
   "cell_type": "code",
   "execution_count": 42,
   "metadata": {
    "slideshow": {
     "slide_type": "-"
    }
   },
   "outputs": [
    {
     "name": "stdout",
     "output_type": "stream",
     "text": [
      "x is equal to one\n",
      "2\n"
     ]
    }
   ],
   "source": [
    "x = 1                           # asignment\n",
    "if x == 1:                      # conditional\n",
    "    print('x is equal to one')  # beginning of a if-block\n",
    "    x = 2                       # end of the if-block. \n",
    "print(x)                        # this line is outside of the if-block "
   ]
  },
  {
   "cell_type": "markdown",
   "metadata": {
    "slideshow": {
     "slide_type": "slide"
    }
   },
   "source": [
    "### <code>If..elif..else</code> statements"
   ]
  },
  {
   "cell_type": "code",
   "execution_count": 43,
   "metadata": {
    "slideshow": {
     "slide_type": "-"
    }
   },
   "outputs": [
    {
     "name": "stdout",
     "output_type": "stream",
     "text": [
      "Element 6: carbon\n"
     ]
    }
   ],
   "source": [
    "element = 'C'\n",
    "\n",
    "if element == 'C': \n",
    "    atm_number = 6\n",
    "    name = 'carbon'\n",
    "elif element == 'O':\n",
    "    atm_number = 8\n",
    "    name = 'oxygen'\n",
    "else:\n",
    "    atm_number = -1\n",
    "    name = 'undefined'\n",
    "\n",
    "print('Element %d: %s' % (atm_number, name))"
   ]
  },
  {
   "cell_type": "markdown",
   "metadata": {
    "slideshow": {
     "slide_type": "slide"
    }
   },
   "source": [
    "### 2.2 Loops "
   ]
  },
  {
   "cell_type": "code",
   "execution_count": 44,
   "metadata": {
    "slideshow": {
     "slide_type": "-"
    }
   },
   "outputs": [
    {
     "name": "stdout",
     "output_type": "stream",
     "text": [
      "The energy is 1.000000e-01 \n",
      "End\n",
      "The energy is 2.000000e-01 \n",
      "End\n",
      "The energy is 3.000000e-01 \n",
      "End\n",
      "The energy is 4.000000e-01 \n",
      "End\n"
     ]
    }
   ],
   "source": [
    "energies = [0.1, 0.2, 0.3, 0.4] \n",
    "\n",
    "for energy in energies:\n",
    "    print('The energy is %e ' % energy)\n",
    "    print(\"End\")"
   ]
  },
  {
   "cell_type": "markdown",
   "metadata": {
    "slideshow": {
     "slide_type": "slide"
    }
   },
   "source": [
    "### Using function <code>range()</code> to iterate over integers\n",
    "\n",
    "NOTE: To create an array of floating point numbers it is better to use the <code>numpy</code> library."
   ]
  },
  {
   "cell_type": "code",
   "execution_count": 46,
   "metadata": {
    "slideshow": {
     "slide_type": "-"
    }
   },
   "outputs": [
    {
     "name": "stdout",
     "output_type": "stream",
     "text": [
      "0 0\n",
      "1 1\n",
      "2 4\n",
      "j =  2\n",
      "j =  9\n",
      "j =  16\n"
     ]
    }
   ],
   "source": [
    "for i in range(3):\n",
    "    print(i, i**2)\n",
    "\n",
    "for j in range(2, 20, 7):\n",
    "    print('j = ', j)"
   ]
  },
  {
   "cell_type": "markdown",
   "metadata": {},
   "source": [
    "### <code>while</code> loops"
   ]
  },
  {
   "cell_type": "code",
   "execution_count": 45,
   "metadata": {},
   "outputs": [
    {
     "name": "stdout",
     "output_type": "stream",
     "text": [
      "1\n",
      "2\n",
      "3\n",
      "4\n",
      "5\n"
     ]
    }
   ],
   "source": [
    "count = 0\n",
    "while (count < 5):\n",
    "    count = count + 1\n",
    "    print(count)"
   ]
  },
  {
   "cell_type": "markdown",
   "metadata": {
    "slideshow": {
     "slide_type": "slide"
    }
   },
   "source": [
    "### Using <code>enumerate()</code> to get the index or an element\n",
    "\n",
    "Enumerate returns next element and its index"
   ]
  },
  {
   "cell_type": "code",
   "execution_count": 47,
   "metadata": {
    "slideshow": {
     "slide_type": "-"
    }
   },
   "outputs": [
    {
     "name": "stdout",
     "output_type": "stream",
     "text": [
      "0 A\n",
      "1 B\n",
      "2 C\n",
      "3 D\n"
     ]
    }
   ],
   "source": [
    "chars = ['A', 'B', 'C', 'D']\n",
    "\n",
    "for index, e in enumerate(chars):\n",
    "    print(index, e)"
   ]
  },
  {
   "cell_type": "markdown",
   "metadata": {
    "slideshow": {
     "slide_type": "slide"
    }
   },
   "source": [
    "### 2.3 List comprehensions\n",
    "\n",
    "Perform some operation on a list in a single line"
   ]
  },
  {
   "cell_type": "code",
   "execution_count": 48,
   "metadata": {
    "slideshow": {
     "slide_type": "-"
    }
   },
   "outputs": [
    {
     "name": "stdout",
     "output_type": "stream",
     "text": [
      "[1.0, 4.0, 16.0, 16.0]\n"
     ]
    }
   ],
   "source": [
    "potentials = [1.0, 2.0, 4.0, 4.0] \n",
    "\n",
    "pot2 = [pot**2 for pot in potentials]\n",
    "print(pot2)"
   ]
  },
  {
   "cell_type": "code",
   "execution_count": 49,
   "metadata": {
    "slideshow": {
     "slide_type": "fragment"
    }
   },
   "outputs": [
    {
     "name": "stdout",
     "output_type": "stream",
     "text": [
      "['pot_1.0.txt', 'pot_2.0.txt', 'pot_4.0.txt', 'pot_4.0.txt']\n"
     ]
    }
   ],
   "source": [
    "out_files = ['pot_%0.1f.txt' % pot for pot in potentials]\n",
    "print(out_files)"
   ]
  },
  {
   "cell_type": "markdown",
   "metadata": {
    "slideshow": {
     "slide_type": "slide"
    }
   },
   "source": [
    "## 3. Functions \n"
   ]
  },
  {
   "cell_type": "markdown",
   "metadata": {
    "slideshow": {
     "slide_type": "slide"
    }
   },
   "source": [
    "### 3.1 Functions without arguments"
   ]
  },
  {
   "cell_type": "code",
   "execution_count": null,
   "metadata": {
    "slideshow": {
     "slide_type": "-"
    }
   },
   "outputs": [],
   "source": [
    "def some_function():\n",
    "    print(\"Hello\")\n",
    "    x = 2\n",
    "    return               # By default function returns None\n",
    "\n",
    "print(some_function())"
   ]
  },
  {
   "cell_type": "markdown",
   "metadata": {
    "slideshow": {
     "slide_type": "slide"
    }
   },
   "source": [
    "### 3.2 Functions with positional arguments"
   ]
  },
  {
   "cell_type": "code",
   "execution_count": null,
   "metadata": {
    "slideshow": {
     "slide_type": "-"
    }
   },
   "outputs": [],
   "source": [
    "def add(x, y):\n",
    "    result = x + y\n",
    "    return result\n",
    "\n",
    "add(5, 7.2)"
   ]
  },
  {
   "cell_type": "code",
   "execution_count": null,
   "metadata": {
    "slideshow": {
     "slide_type": "slide"
    }
   },
   "outputs": [],
   "source": [
    "def circle(x, y):\n",
    "    radius = 8.0\n",
    "    in_circle = (x**2 + y**2 < radius**2)\n",
    "    return in_circle\n",
    "\n",
    "circle(0, 7)"
   ]
  },
  {
   "cell_type": "markdown",
   "metadata": {
    "slideshow": {
     "slide_type": "slide"
    }
   },
   "source": [
    "### 3.3 Functions with keyword arguments"
   ]
  },
  {
   "cell_type": "code",
   "execution_count": null,
   "metadata": {},
   "outputs": [],
   "source": [
    "\n",
    "def circle(x, y, x0=0, y0=0, radius=8):\n",
    "    in_circle = ((x-x0)**2 + (y-y0)**2 < radius**2)\n",
    "    return in_circle       \n",
    "\n",
    "circle(2, 3)     # you have to supply the positional arguments\n",
    "                     "
   ]
  },
  {
   "cell_type": "code",
   "execution_count": null,
   "metadata": {
    "slideshow": {
     "slide_type": "fragment"
    }
   },
   "outputs": [],
   "source": [
    "circle(2, 3, 7, 5, 6)        # without keywords, the argument ordering follows the ordering in the definition\n",
    "circle(2, 3, radius=10)      # changing a single keyword argument\n",
    "circle(2, 3, y0=5, x0=2)     # you can change the order of keyword arguments\n",
    "circle(2, 3, 7, radius=2)    # here 7 is assigned to x0, y0 is 0, and radius is 2\n",
    "# circle(2, 3, radius=2, 5)  # error: Non-keyword argument can't follow a keyword argument"
   ]
  },
  {
   "cell_type": "markdown",
   "metadata": {
    "slideshow": {
     "slide_type": "slide"
    }
   },
   "source": [
    "### 3.4 Functions returning multiple values"
   ]
  },
  {
   "cell_type": "code",
   "execution_count": null,
   "metadata": {},
   "outputs": [],
   "source": [
    "def f(x):\n",
    "    return x, x**2, x**3\n",
    "\n",
    "a, b, c = f(3)\n",
    "print(a, b, c)"
   ]
  },
  {
   "cell_type": "markdown",
   "metadata": {
    "slideshow": {
     "slide_type": "slide"
    }
   },
   "source": [
    "### 3.5 Built-in math functions\n",
    "\n",
    "NOTE: Most of these functions operate on a single number. There are their\n",
    "alternatives in <code>numpy</code> package which operate on entire arrays."
   ]
  },
  {
   "cell_type": "code",
   "execution_count": null,
   "metadata": {
    "slideshow": {
     "slide_type": "fragment"
    }
   },
   "outputs": [],
   "source": [
    "from math import sin, cos, exp, tan\n",
    "from math import pi \n",
    "\n",
    "alpha = 30.0 \n",
    "alpha_rad = alpha * pi / 180\n",
    "sin(alpha_rad), cos(alpha_rad), exp(alpha_rad), abs(-5)"
   ]
  },
  {
   "cell_type": "markdown",
   "metadata": {
    "slideshow": {
     "slide_type": "slide"
    }
   },
   "source": [
    "## 4. Pitfalls and error messages"
   ]
  },
  {
   "cell_type": "markdown",
   "metadata": {
    "slideshow": {
     "slide_type": "notes"
    }
   },
   "source": [
    "When you start writing your code, in the beginning, it is more likely it will fail than work. Python will produce error messages to help you find where the problem is and remove it. That is why it is important to read and understand the different types of error messages."
   ]
  },
  {
   "cell_type": "markdown",
   "metadata": {
    "slideshow": {
     "slide_type": "slide"
    }
   },
   "source": [
    "There are eight standard error types in Python. \n",
    " - Indentation error\n",
    " - Syntax error\n",
    " - Name error\n",
    " - Type error\n",
    " - Input-output error\n",
    " - Key error\n",
    " - Index error\n",
    " - Attribute error\n",
    "\n",
    "\n",
    "Once you become more experienced with the language, you can define new error types yourself. "
   ]
  },
  {
   "cell_type": "markdown",
   "metadata": {
    "slideshow": {
     "slide_type": "slide"
    }
   },
   "source": [
    "### 4.1 Indentation error"
   ]
  },
  {
   "cell_type": "markdown",
   "metadata": {
    "slideshow": {
     "slide_type": "notes"
    }
   },
   "source": [
    "Four space characters must indent the code inside of an <code>if</code>-block, <code>for</code>-loop or a function. If any line of your code is not indented by a **multiple of four characters**, the interpreter might get confused, and it will throw you an indentation error."
   ]
  },
  {
   "cell_type": "code",
   "execution_count": null,
   "metadata": {},
   "outputs": [],
   "source": [
    "numbers = [1, 2, 5, 7]\n",
    "\n",
    "for n in numbers:\n",
    "    d = n**2\n",
    "  print(d)     # Neither in the loop nor outside of it \n",
    "print(\"Done\") "
   ]
  },
  {
   "cell_type": "markdown",
   "metadata": {
    "slideshow": {
     "slide_type": "slide"
    }
   },
   "source": [
    "### 4.2 Syntax error"
   ]
  },
  {
   "cell_type": "markdown",
   "metadata": {
    "slideshow": {
     "slide_type": "notes"
    }
   },
   "source": [
    "You wrote something which is not a Python statement. These errors usually occur when you have a typo in your code (missing colon symbol ':', missing brackets, or missing quotation symbol)"
   ]
  },
  {
   "cell_type": "code",
   "execution_count": null,
   "metadata": {
    "slideshow": {
     "slide_type": "-"
    }
   },
   "outputs": [],
   "source": [
    "def square(a)     # This line is missing a colon\n",
    "    return a**2\n",
    "square(3)"
   ]
  },
  {
   "cell_type": "markdown",
   "metadata": {
    "slideshow": {
     "slide_type": "slide"
    }
   },
   "source": [
    "### 4.3 Name error"
   ]
  },
  {
   "cell_type": "markdown",
   "metadata": {
    "slideshow": {
     "slide_type": "skip"
    }
   },
   "source": [
    "Python can't associate the word you typed with a known function, module, or a variable. This error happens if you mistype a variable or function name. Another case is if you call a function (or a variable) that is not defined in the present scope. "
   ]
  },
  {
   "cell_type": "code",
   "execution_count": null,
   "metadata": {
    "slideshow": {
     "slide_type": "-"
    }
   },
   "outputs": [],
   "source": [
    "def to_radian(angle):\n",
    "    return angle * 3.141592 / 180.\n",
    "\n",
    "to_radians(75)     # extra 's' at the end\n",
    "    "
   ]
  },
  {
   "cell_type": "markdown",
   "metadata": {
    "slideshow": {
     "slide_type": "slide"
    }
   },
   "source": [
    "### 4.4 Type error"
   ]
  },
  {
   "cell_type": "markdown",
   "metadata": {
    "slideshow": {
     "slide_type": "notes"
    }
   },
   "source": [
    "You are trying to perform some operation on a type that doesn't support that operation. This might happen if you supply the wrong type as an argument to a function."
   ]
  },
  {
   "cell_type": "code",
   "execution_count": null,
   "metadata": {
    "slideshow": {
     "slide_type": "-"
    }
   },
   "outputs": [],
   "source": [
    "def square(a):\n",
    "    s = a**2    # you cannot compute a power of a list\n",
    "    print('The square is ', s)\n",
    "    return s\n",
    "\n",
    "x = [5]   \n",
    "square(x)   # function expects int or float, not a list"
   ]
  },
  {
   "cell_type": "markdown",
   "metadata": {
    "slideshow": {
     "slide_type": "slide"
    }
   },
   "source": [
    "### 4.5 I/O Error"
   ]
  },
  {
   "cell_type": "markdown",
   "metadata": {
    "slideshow": {
     "slide_type": "-"
    }
   },
   "source": [
    "You want to open a file, but the file does not exist."
   ]
  },
  {
   "cell_type": "markdown",
   "metadata": {
    "slideshow": {
     "slide_type": "slide"
    }
   },
   "source": [
    "### 4.6 Key error"
   ]
  },
  {
   "cell_type": "markdown",
   "metadata": {
    "slideshow": {
     "slide_type": "-"
    }
   },
   "source": [
    "You want to select an undefined dictionary entry."
   ]
  },
  {
   "cell_type": "code",
   "execution_count": null,
   "metadata": {
    "slideshow": {
     "slide_type": "-"
    }
   },
   "outputs": [],
   "source": [
    "p_radius = {'Mercury': 1516., 'Venus': 3760.4, \n",
    "            'Earth' : 3958.8, 'Mars': 2106.1,\n",
    "            'Jupiter': 43441., 'Saturn': 36184., \n",
    "            'Uranus': 15759., 'Neptune': 15299.}\n",
    "\n",
    "p_radius['Sun']  "
   ]
  },
  {
   "cell_type": "markdown",
   "metadata": {
    "slideshow": {
     "slide_type": "slide"
    }
   },
   "source": [
    "### 4.7 Index error\n",
    "\n",
    "Index goes beyond the list size"
   ]
  },
  {
   "cell_type": "code",
   "execution_count": null,
   "metadata": {
    "slideshow": {
     "slide_type": "-"
    }
   },
   "outputs": [],
   "source": [
    "a = ['A', 'B', 'C']\n",
    "a[3]             # indexing starts at zero, last index is 2"
   ]
  },
  {
   "cell_type": "markdown",
   "metadata": {
    "slideshow": {
     "slide_type": "slide"
    }
   },
   "source": [
    "### 4.8 Attribute error"
   ]
  },
  {
   "cell_type": "markdown",
   "metadata": {
    "slideshow": {
     "slide_type": "notes"
    }
   },
   "source": [
    "You are trying to access an attribute that is not in a module or object."
   ]
  },
  {
   "cell_type": "code",
   "execution_count": null,
   "metadata": {
    "slideshow": {
     "slide_type": "-"
    }
   },
   "outputs": [],
   "source": [
    "import numpy as np\n",
    "\n",
    "np.zeros(5)\n",
    "np.fibonacci(5)    # this function is not defined in numpy"
   ]
  },
  {
   "cell_type": "markdown",
   "metadata": {},
   "source": [
    "## 5. Understanding Python aliases"
   ]
  },
  {
   "cell_type": "markdown",
   "metadata": {},
   "source": [
    "It is important to emphasize that the assignment operator '=' sometimes works differently in Python than in other languages. If a variable is of mutable type (e.g., a list or a numpy array), the assignment operator   will create an alias instead of a copy of the variable. An alias is just a different name for the same variable. One can use the built-in id() function to check for aliases."
   ]
  },
  {
   "cell_type": "code",
   "execution_count": null,
   "metadata": {},
   "outputs": [],
   "source": [
    "a = np.array([1, 2, 3])\n",
    "b = a             # creating an alias\n",
    "print('ID: ', id(a), id(b))\n",
    "b[1] = 100        # caution! This will also modify array a\n",
    "\n",
    "print(a)\n",
    "print(b)"
   ]
  },
  {
   "cell_type": "markdown",
   "metadata": {},
   "source": [
    "Aliases allow renaming of objects in Python. However, as shown in the previous example, they can create problems if one is not aware of them. To create a copy of a variable instead of an alias."
   ]
  },
  {
   "cell_type": "code",
   "execution_count": null,
   "metadata": {},
   "outputs": [],
   "source": [
    "a = np.array([1, 2, 3])\n",
    "b = np.array(a)   # this will create a copy of a\n",
    "print('ID: ', id(a), id(b))\n",
    "b[1] = 100        # this doesn't influence a\n",
    "\n",
    "print(a)\n",
    "print(b)"
   ]
  },
  {
   "cell_type": "markdown",
   "metadata": {
    "slideshow": {
     "slide_type": "slide"
    }
   },
   "source": [
    "## More information on Python\n",
    " - [Official documentation page](https://docs.python.org/3/)\n",
    " - [Style guide for Python code (PEP8)](https://www.python.org/dev/peps/pep-0008/)\n",
    " "
   ]
  },
  {
   "cell_type": "markdown",
   "metadata": {
    "slideshow": {
     "slide_type": "slide"
    }
   },
   "source": [
    "Please send corrections to <code>bnikolic@udel.edu</code>"
   ]
  }
 ],
 "metadata": {
  "kernelspec": {
   "display_name": "Python 3 (ipykernel)",
   "language": "python",
   "name": "python3"
  },
  "language_info": {
   "codemirror_mode": {
    "name": "ipython",
    "version": 3
   },
   "file_extension": ".py",
   "mimetype": "text/x-python",
   "name": "python",
   "nbconvert_exporter": "python",
   "pygments_lexer": "ipython3",
   "version": "3.11.4"
  }
 },
 "nbformat": 4,
 "nbformat_minor": 2
}
